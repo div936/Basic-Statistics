{
 "cells": [
  {
   "cell_type": "code",
   "execution_count": 2,
   "metadata": {},
   "outputs": [],
   "source": [
    "# Q7. Calculate Mean, Median, Mode, Variance, Standard Deviation, Range & comment about the values/draw inferences, for the given dataset \n",
    "#1. For Points, Score, Weigh \n",
    "#2. Find Mean, Median, Mode, Variance, Standard Deviation, and Range and also Comment about the values/ Draw some inferences"
   ]
  },
  {
   "cell_type": "code",
   "execution_count": 4,
   "metadata": {},
   "outputs": [],
   "source": [
    "import pandas as pd\n",
    "import numpy as np\n",
    "import matplotlib.pyplot as plt"
   ]
  },
  {
   "cell_type": "code",
   "execution_count": 5,
   "metadata": {},
   "outputs": [
    {
     "data": {
      "text/html": [
       "<div>\n",
       "<style scoped>\n",
       "    .dataframe tbody tr th:only-of-type {\n",
       "        vertical-align: middle;\n",
       "    }\n",
       "\n",
       "    .dataframe tbody tr th {\n",
       "        vertical-align: top;\n",
       "    }\n",
       "\n",
       "    .dataframe thead th {\n",
       "        text-align: right;\n",
       "    }\n",
       "</style>\n",
       "<table border=\"1\" class=\"dataframe\">\n",
       "  <thead>\n",
       "    <tr style=\"text-align: right;\">\n",
       "      <th></th>\n",
       "      <th>Unnamed: 0</th>\n",
       "      <th>Points</th>\n",
       "      <th>Score</th>\n",
       "      <th>Weigh</th>\n",
       "    </tr>\n",
       "  </thead>\n",
       "  <tbody>\n",
       "    <tr>\n",
       "      <th>0</th>\n",
       "      <td>Mazda RX4</td>\n",
       "      <td>3.90</td>\n",
       "      <td>2.620</td>\n",
       "      <td>16.46</td>\n",
       "    </tr>\n",
       "    <tr>\n",
       "      <th>1</th>\n",
       "      <td>Mazda RX4 Wag</td>\n",
       "      <td>3.90</td>\n",
       "      <td>2.875</td>\n",
       "      <td>17.02</td>\n",
       "    </tr>\n",
       "    <tr>\n",
       "      <th>2</th>\n",
       "      <td>Datsun 710</td>\n",
       "      <td>3.85</td>\n",
       "      <td>2.320</td>\n",
       "      <td>18.61</td>\n",
       "    </tr>\n",
       "    <tr>\n",
       "      <th>3</th>\n",
       "      <td>Hornet 4 Drive</td>\n",
       "      <td>3.08</td>\n",
       "      <td>3.215</td>\n",
       "      <td>19.44</td>\n",
       "    </tr>\n",
       "    <tr>\n",
       "      <th>4</th>\n",
       "      <td>Hornet Sportabout</td>\n",
       "      <td>3.15</td>\n",
       "      <td>3.440</td>\n",
       "      <td>17.02</td>\n",
       "    </tr>\n",
       "  </tbody>\n",
       "</table>\n",
       "</div>"
      ],
      "text/plain": [
       "          Unnamed: 0  Points  Score  Weigh\n",
       "0          Mazda RX4    3.90  2.620  16.46\n",
       "1      Mazda RX4 Wag    3.90  2.875  17.02\n",
       "2         Datsun 710    3.85  2.320  18.61\n",
       "3     Hornet 4 Drive    3.08  3.215  19.44\n",
       "4  Hornet Sportabout    3.15  3.440  17.02"
      ]
     },
     "execution_count": 5,
     "metadata": {},
     "output_type": "execute_result"
    }
   ],
   "source": [
    "Q7_data = pd.read_csv(\"Q7.csv\")\n",
    "Q7_data.head()"
   ]
  },
  {
   "cell_type": "code",
   "execution_count": 6,
   "metadata": {},
   "outputs": [
    {
     "data": {
      "text/html": [
       "<div>\n",
       "<style scoped>\n",
       "    .dataframe tbody tr th:only-of-type {\n",
       "        vertical-align: middle;\n",
       "    }\n",
       "\n",
       "    .dataframe tbody tr th {\n",
       "        vertical-align: top;\n",
       "    }\n",
       "\n",
       "    .dataframe thead th {\n",
       "        text-align: right;\n",
       "    }\n",
       "</style>\n",
       "<table border=\"1\" class=\"dataframe\">\n",
       "  <thead>\n",
       "    <tr style=\"text-align: right;\">\n",
       "      <th></th>\n",
       "      <th>Points</th>\n",
       "      <th>Score</th>\n",
       "      <th>Weigh</th>\n",
       "    </tr>\n",
       "  </thead>\n",
       "  <tbody>\n",
       "    <tr>\n",
       "      <th>count</th>\n",
       "      <td>32.000000</td>\n",
       "      <td>32.000000</td>\n",
       "      <td>32.000000</td>\n",
       "    </tr>\n",
       "    <tr>\n",
       "      <th>mean</th>\n",
       "      <td>3.596563</td>\n",
       "      <td>3.217250</td>\n",
       "      <td>17.848750</td>\n",
       "    </tr>\n",
       "    <tr>\n",
       "      <th>std</th>\n",
       "      <td>0.534679</td>\n",
       "      <td>0.978457</td>\n",
       "      <td>1.786943</td>\n",
       "    </tr>\n",
       "    <tr>\n",
       "      <th>min</th>\n",
       "      <td>2.760000</td>\n",
       "      <td>1.513000</td>\n",
       "      <td>14.500000</td>\n",
       "    </tr>\n",
       "    <tr>\n",
       "      <th>25%</th>\n",
       "      <td>3.080000</td>\n",
       "      <td>2.581250</td>\n",
       "      <td>16.892500</td>\n",
       "    </tr>\n",
       "    <tr>\n",
       "      <th>50%</th>\n",
       "      <td>3.695000</td>\n",
       "      <td>3.325000</td>\n",
       "      <td>17.710000</td>\n",
       "    </tr>\n",
       "    <tr>\n",
       "      <th>75%</th>\n",
       "      <td>3.920000</td>\n",
       "      <td>3.610000</td>\n",
       "      <td>18.900000</td>\n",
       "    </tr>\n",
       "    <tr>\n",
       "      <th>max</th>\n",
       "      <td>4.930000</td>\n",
       "      <td>5.424000</td>\n",
       "      <td>22.900000</td>\n",
       "    </tr>\n",
       "  </tbody>\n",
       "</table>\n",
       "</div>"
      ],
      "text/plain": [
       "          Points      Score      Weigh\n",
       "count  32.000000  32.000000  32.000000\n",
       "mean    3.596563   3.217250  17.848750\n",
       "std     0.534679   0.978457   1.786943\n",
       "min     2.760000   1.513000  14.500000\n",
       "25%     3.080000   2.581250  16.892500\n",
       "50%     3.695000   3.325000  17.710000\n",
       "75%     3.920000   3.610000  18.900000\n",
       "max     4.930000   5.424000  22.900000"
      ]
     },
     "execution_count": 6,
     "metadata": {},
     "output_type": "execute_result"
    }
   ],
   "source": [
    "Q7_data.describe()"
   ]
  },
  {
   "cell_type": "code",
   "execution_count": 7,
   "metadata": {},
   "outputs": [],
   "source": [
    "Q7_DataFrame = pd.DataFrame(Q7_data)"
   ]
  },
  {
   "cell_type": "code",
   "execution_count": 8,
   "metadata": {},
   "outputs": [
    {
     "name": "stdout",
     "output_type": "stream",
     "text": [
      "             Unnamed: 0  Points  Score  Weigh\n",
      "0             Mazda RX4    3.90  2.620  16.46\n",
      "1         Mazda RX4 Wag    3.90  2.875  17.02\n",
      "2            Datsun 710    3.85  2.320  18.61\n",
      "3        Hornet 4 Drive    3.08  3.215  19.44\n",
      "4     Hornet Sportabout    3.15  3.440  17.02\n",
      "5               Valiant    2.76  3.460  20.22\n",
      "6            Duster 360    3.21  3.570  15.84\n",
      "7             Merc 240D    3.69  3.190  20.00\n",
      "8              Merc 230    3.92  3.150  22.90\n",
      "9              Merc 280    3.92  3.440  18.30\n",
      "10            Merc 280C    3.92  3.440  18.90\n",
      "11           Merc 450SE    3.07  4.070  17.40\n",
      "12           Merc 450SL    3.07  3.730  17.60\n",
      "13          Merc 450SLC    3.07  3.780  18.00\n",
      "14   Cadillac Fleetwood    2.93  5.250  17.98\n",
      "15  Lincoln Continental    3.00  5.424  17.82\n",
      "16    Chrysler Imperial    3.23  5.345  17.42\n",
      "17             Fiat 128    4.08  2.200  19.47\n",
      "18          Honda Civic    4.93  1.615  18.52\n",
      "19       Toyota Corolla    4.22  1.835  19.90\n",
      "20        Toyota Corona    3.70  2.465  20.01\n",
      "21     Dodge Challenger    2.76  3.520  16.87\n",
      "22          AMC Javelin    3.15  3.435  17.30\n",
      "23           Camaro Z28    3.73  3.840  15.41\n",
      "24     Pontiac Firebird    3.08  3.845  17.05\n",
      "25            Fiat X1-9    4.08  1.935  18.90\n",
      "26        Porsche 914-2    4.43  2.140  16.70\n",
      "27         Lotus Europa    3.77  1.513  16.90\n",
      "28       Ford Pantera L    4.22  3.170  14.50\n",
      "29         Ferrari Dino    3.62  2.770  15.50\n",
      "30        Maserati Bora    3.54  3.570  14.60\n",
      "31           Volvo 142E    4.11  2.780  18.60\n"
     ]
    }
   ],
   "source": [
    "print(Q7_DataFrame)"
   ]
  },
  {
   "cell_type": "code",
   "execution_count": 9,
   "metadata": {},
   "outputs": [
    {
     "data": {
      "text/plain": [
       "Points     3.596563\n",
       "Score      3.217250\n",
       "Weigh     17.848750\n",
       "dtype: float64"
      ]
     },
     "execution_count": 9,
     "metadata": {},
     "output_type": "execute_result"
    }
   ],
   "source": [
    "# Mean\n",
    "Q7_DataFrame.mean()"
   ]
  },
  {
   "cell_type": "code",
   "execution_count": 10,
   "metadata": {},
   "outputs": [
    {
     "data": {
      "text/plain": [
       "Points     3.695\n",
       "Score      3.325\n",
       "Weigh     17.710\n",
       "dtype: float64"
      ]
     },
     "execution_count": 10,
     "metadata": {},
     "output_type": "execute_result"
    }
   ],
   "source": [
    "# Median\n",
    "Q7_DataFrame.median()"
   ]
  },
  {
   "cell_type": "code",
   "execution_count": 11,
   "metadata": {},
   "outputs": [
    {
     "data": {
      "text/html": [
       "<div>\n",
       "<style scoped>\n",
       "    .dataframe tbody tr th:only-of-type {\n",
       "        vertical-align: middle;\n",
       "    }\n",
       "\n",
       "    .dataframe tbody tr th {\n",
       "        vertical-align: top;\n",
       "    }\n",
       "\n",
       "    .dataframe thead th {\n",
       "        text-align: right;\n",
       "    }\n",
       "</style>\n",
       "<table border=\"1\" class=\"dataframe\">\n",
       "  <thead>\n",
       "    <tr style=\"text-align: right;\">\n",
       "      <th></th>\n",
       "      <th>Points</th>\n",
       "      <th>Score</th>\n",
       "      <th>Weigh</th>\n",
       "    </tr>\n",
       "  </thead>\n",
       "  <tbody>\n",
       "    <tr>\n",
       "      <th>0</th>\n",
       "      <td>3.07</td>\n",
       "      <td>3.44</td>\n",
       "      <td>17.02</td>\n",
       "    </tr>\n",
       "    <tr>\n",
       "      <th>1</th>\n",
       "      <td>3.92</td>\n",
       "      <td>NaN</td>\n",
       "      <td>18.90</td>\n",
       "    </tr>\n",
       "  </tbody>\n",
       "</table>\n",
       "</div>"
      ],
      "text/plain": [
       "   Points  Score  Weigh\n",
       "0    3.07   3.44  17.02\n",
       "1    3.92    NaN  18.90"
      ]
     },
     "execution_count": 11,
     "metadata": {},
     "output_type": "execute_result"
    }
   ],
   "source": [
    "# Mode\n",
    "Q7_DataFrame.mode(numeric_only=True)"
   ]
  },
  {
   "cell_type": "code",
   "execution_count": 12,
   "metadata": {},
   "outputs": [
    {
     "data": {
      "text/plain": [
       "Points    0.534679\n",
       "Score     0.978457\n",
       "Weigh     1.786943\n",
       "dtype: float64"
      ]
     },
     "execution_count": 12,
     "metadata": {},
     "output_type": "execute_result"
    }
   ],
   "source": [
    "# Standard Deviation\n",
    "Q7_DataFrame.std()"
   ]
  },
  {
   "cell_type": "code",
   "execution_count": 13,
   "metadata": {},
   "outputs": [
    {
     "data": {
      "text/plain": [
       "Points    0.285881\n",
       "Score     0.957379\n",
       "Weigh     3.193166\n",
       "dtype: float64"
      ]
     },
     "execution_count": 13,
     "metadata": {},
     "output_type": "execute_result"
    }
   ],
   "source": [
    "# Variance \n",
    "Q7_DataFrame.var()"
   ]
  },
  {
   "cell_type": "code",
   "execution_count": 14,
   "metadata": {},
   "outputs": [
    {
     "data": {
      "text/plain": [
       "Points    2.170\n",
       "Score     3.911\n",
       "Weigh     8.400\n",
       "dtype: float64"
      ]
     },
     "execution_count": 14,
     "metadata": {},
     "output_type": "execute_result"
    }
   ],
   "source": [
    "# Range\n",
    "(Q7_DataFrame.max(numeric_only=True) - Q7_DataFrame.min(numeric_only=True))"
   ]
  },
  {
   "cell_type": "code",
   "execution_count": null,
   "metadata": {},
   "outputs": [],
   "source": [
    "# Q20) Calculate probability from the given dataset for the below cases\n",
    "# Data _set: Cars.csv Calculate the probability of MPG of Cars for the below cases. a. P(MPG>38) b. P(MPG<40) c. P (20<MPG<50)"
   ]
  },
  {
   "cell_type": "code",
   "execution_count": 15,
   "metadata": {},
   "outputs": [],
   "source": [
    "Q20_data = pd.read_csv(\"Cars.csv\")\n",
    "Q20 = pd.DataFrame(Q20_data)"
   ]
  },
  {
   "cell_type": "code",
   "execution_count": 17,
   "metadata": {},
   "outputs": [
    {
     "name": "stdout",
     "output_type": "stream",
     "text": [
      "<class 'pandas.core.frame.DataFrame'>\n",
      "Int64Index: 69 entries, 3 to 78\n",
      "Data columns (total 5 columns):\n",
      " #   Column  Non-Null Count  Dtype  \n",
      "---  ------  --------------  -----  \n",
      " 0   HP      69 non-null     int64  \n",
      " 1   MPG     69 non-null     float64\n",
      " 2   VOL     69 non-null     int64  \n",
      " 3   SP      69 non-null     float64\n",
      " 4   WT      69 non-null     float64\n",
      "dtypes: float64(3), int64(2)\n",
      "memory usage: 3.2 KB\n"
     ]
    }
   ],
   "source": [
    "Q20_data[(Q20.MPG>20) & (Q20.MPG<50)].info()"
   ]
  },
  {
   "cell_type": "code",
   "execution_count": 18,
   "metadata": {},
   "outputs": [
    {
     "name": "stdout",
     "output_type": "stream",
     "text": [
      "<class 'pandas.core.frame.DataFrame'>\n",
      "Int64Index: 33 entries, 0 to 65\n",
      "Data columns (total 5 columns):\n",
      " #   Column  Non-Null Count  Dtype  \n",
      "---  ------  --------------  -----  \n",
      " 0   HP      33 non-null     int64  \n",
      " 1   MPG     33 non-null     float64\n",
      " 2   VOL     33 non-null     int64  \n",
      " 3   SP      33 non-null     float64\n",
      " 4   WT      33 non-null     float64\n",
      "dtypes: float64(3), int64(2)\n",
      "memory usage: 1.5 KB\n"
     ]
    }
   ],
   "source": [
    "Q20_data[Q20.MPG>38].info()"
   ]
  },
  {
   "cell_type": "code",
   "execution_count": 19,
   "metadata": {},
   "outputs": [
    {
     "name": "stdout",
     "output_type": "stream",
     "text": [
      "<class 'pandas.core.frame.DataFrame'>\n",
      "Int64Index: 61 entries, 11 to 80\n",
      "Data columns (total 5 columns):\n",
      " #   Column  Non-Null Count  Dtype  \n",
      "---  ------  --------------  -----  \n",
      " 0   HP      61 non-null     int64  \n",
      " 1   MPG     61 non-null     float64\n",
      " 2   VOL     61 non-null     int64  \n",
      " 3   SP      61 non-null     float64\n",
      " 4   WT      61 non-null     float64\n",
      "dtypes: float64(3), int64(2)\n",
      "memory usage: 2.9 KB\n"
     ]
    }
   ],
   "source": [
    "Q20_data[Q20.MPG<40].info()"
   ]
  },
  {
   "cell_type": "code",
   "execution_count": 29,
   "metadata": {},
   "outputs": [],
   "source": [
    "# Q21) Check whether the data follows normal distribution\n",
    "# a) Check whether the MPG of Cars follows Normal Distribution Dataset: Cars.csv b) Check Whether the Adipose Tissue (AT) and Waist Circumference (Waist) from \n",
    "# wc-at data set follows Normal Distribution Dataset: wc-at.csv"
   ]
  },
  {
   "cell_type": "code",
   "execution_count": 21,
   "metadata": {},
   "outputs": [],
   "source": [
    "import scipy.stats as stats\n",
    "from scipy.stats import kurtosis\n",
    "from scipy.stats import skew\n",
    "import seaborn as sns\n",
    "%matplotlib inline"
   ]
  },
  {
   "cell_type": "code",
   "execution_count": 22,
   "metadata": {},
   "outputs": [
    {
     "name": "stdout",
     "output_type": "stream",
     "text": [
      "   HP        MPG  VOL          SP         WT\n",
      "0  49  53.700681   89  104.185353  28.762059\n",
      "1  55  50.013401   92  105.461264  30.466833\n",
      "2  55  50.013401   92  105.461264  30.193597\n",
      "3  70  45.696322   92  113.461264  30.632114\n",
      "4  53  50.504232   92  104.461264  29.889149\n",
      "     HP        MPG  VOL          SP         WT\n",
      "76  322  36.900000   50  169.598513  16.132947\n",
      "77  238  19.197888  115  150.576579  37.923113\n",
      "78  263  34.000000   50  151.598513  15.769625\n",
      "79  295  19.833733  119  167.944460  39.423099\n",
      "80  236  12.101263  107  139.840817  34.948615\n"
     ]
    }
   ],
   "source": [
    "Q21A_data = pd.read_csv(\"Cars.csv\")\n",
    "Q21A = pd.DataFrame(Q21A_data)\n",
    "print(Q21A.head())\n",
    "print(Q21A.tail())"
   ]
  },
  {
   "cell_type": "code",
   "execution_count": 23,
   "metadata": {},
   "outputs": [
    {
     "data": {
      "image/png": "[encoded data removed]",
      "text/plain": [
       "<Figure size 432x288 with 1 Axes>"
      ]
     },
     "metadata": {
      "needs_background": "light"
     },
     "output_type": "display_data"
    }
   ],
   "source": [
    "sns.distplot(Q21A, label = 'MPG');\n",
    "plt.xlabel('MPG');\n",
    "plt.ylabel('Density');\n",
    "plt.legend();"
   ]
  },
  {
   "cell_type": "code",
   "execution_count": 25,
   "metadata": {},
   "outputs": [
    {
     "name": "stdout",
     "output_type": "stream",
     "text": [
      "   Waist     AT\n",
      "0  74.75  25.72\n",
      "1  72.60  25.89\n",
      "2  81.80  42.60\n",
      "3  83.95  42.80\n",
      "4  74.65  29.84\n",
      "     Waist     AT\n",
      "104  100.1  124.0\n",
      "105   93.3   62.2\n",
      "106  101.8  133.0\n",
      "107  107.9  208.0\n",
      "108  108.5  208.0\n"
     ]
    }
   ],
   "source": [
    "Q21B_data = pd.read_csv(\"wc-at.csv\")\n",
    "Q21B = pd.DataFrame(Q21B_data)\n",
    "print(Q21B.head())\n",
    "print(Q21B.tail())"
   ]
  },
  {
   "cell_type": "code",
   "execution_count": 26,
   "metadata": {},
   "outputs": [
    {
     "data": {
      "image/png": "[encoded data removed]",
      "text/plain": [
       "<Figure size 432x288 with 1 Axes>"
      ]
     },
     "metadata": {
      "needs_background": "light"
     },
     "output_type": "display_data"
    }
   ],
   "source": [
    "sns.distplot(Q21B, label = 'WAIST');\n",
    "plt.xlabel('Waist');\n",
    "plt.ylabel('Density');\n",
    "plt.legend();"
   ]
  },
  {
   "cell_type": "code",
   "execution_count": 27,
   "metadata": {},
   "outputs": [
    {
     "data": {
      "image/png": "[encoded data removed]",
      "text/plain": [
       "<Figure size 432x288 with 1 Axes>"
      ]
     },
     "metadata": {
      "needs_background": "light"
     },
     "output_type": "display_data"
    }
   ],
   "source": [
    "sns.distplot(Q21B, label = 'AT');\n",
    "plt.xlabel('AT');\n",
    "plt.ylabel('Density');\n",
    "plt.legend();"
   ]
  },
  {
   "cell_type": "code",
   "execution_count": 30,
   "metadata": {},
   "outputs": [],
   "source": [
    "# Q9) Calculate Skewness, Kurtosis & draw inferences on the following data • Cars speed and distance (Use Q9_a.csv) • SP and Weight(WT) (Use Q9_b.csv)"
   ]
  },
  {
   "cell_type": "code",
   "execution_count": 34,
   "metadata": {},
   "outputs": [
    {
     "name": "stdout",
     "output_type": "stream",
     "text": [
      "   Index  speed  dist\n",
      "0      1      4     2\n",
      "1      2      4    10\n",
      "2      3      7     4\n",
      "3      4      7    22\n",
      "4      5      8    16\n"
     ]
    }
   ],
   "source": [
    "Q9A_data = pd.read_csv(\"Q9_a.csv\")\n",
    "Q9B_data = pd.read_csv(\"Q9_b.csv\")\n",
    "Q9A = pd.DataFrame(Q9A_data)\n",
    "print(Q9A.head())"
   ]
  },
  {
   "cell_type": "code",
   "execution_count": 36,
   "metadata": {},
   "outputs": [
    {
     "name": "stdout",
     "output_type": "stream",
     "text": [
      "\n",
      "------------Kurtosis for Normal Distribution--------\n",
      " Index   -1.200000\n",
      "speed   -0.508994\n",
      "dist     0.405053\n",
      "dtype: float64\n",
      "[-1.20096038 -0.57714742  0.24801866]\n"
     ]
    },
    {
     "data": {
      "text/plain": [
       "<matplotlib.legend.Legend at 0x1b1085b2c88>"
      ]
     },
     "execution_count": 36,
     "metadata": {},
     "output_type": "execute_result"
    },
    {
     "data": {
      "image/png": "[encoded data removed]",
      "text/plain": [
       "<Figure size 432x288 with 1 Axes>"
      ]
     },
     "metadata": {
      "needs_background": "light"
     },
     "output_type": "display_data"
    }
   ],
   "source": [
    "print ('\\n------------Kurtosis for Normal Distribution--------\\n', Q9A_data.kurt())\n",
    "print(kurtosis(Q9A_data))\n",
    "#plt.plot(Q9A_data)\n",
    "#plt.show()\n",
    "\n",
    "sns.distplot(kurtosis(Q9A_data), label = 'Kurtosis')\n",
    "plt.xlabel('speed')\n",
    "plt.ylabel('distance')\n",
    "plt.legend()"
   ]
  },
  {
   "cell_type": "code",
   "execution_count": 38,
   "metadata": {},
   "outputs": [
    {
     "name": "stdout",
     "output_type": "stream",
     "text": [
      "\n",
      "------------Skewness for Normal Distribution--------\n",
      " Index    0.000000\n",
      "speed   -0.117510\n",
      "dist     0.806895\n",
      "dtype: float64\n",
      "[ 0.         -0.11395477  0.78248352]\n"
     ]
    },
    {
     "data": {
      "text/plain": [
       "<matplotlib.legend.Legend at 0x1b17e41c988>"
      ]
     },
     "execution_count": 38,
     "metadata": {},
     "output_type": "execute_result"
    },
    {
     "data": {
      "image/png": "[encoded data removed]",
      "text/plain": [
       "<Figure size 432x288 with 1 Axes>"
      ]
     },
     "metadata": {
      "needs_background": "light"
     },
     "output_type": "display_data"
    }
   ],
   "source": [
    "print ('\\n------------Skewness for Normal Distribution--------\\n', Q9A_data.skew())\n",
    "print(skew(Q9A_data))\n",
    "#plt.plot(Q9A_data)\n",
    "#plt.show()\n",
    "\n",
    "sns.distplot(skew(Q9A_data), label = 'Skewness')\n",
    "plt.xlabel('speed')\n",
    "plt.ylabel('distance')\n",
    "plt.legend()"
   ]
  },
  {
   "cell_type": "code",
   "execution_count": 39,
   "metadata": {},
   "outputs": [
    {
     "name": "stdout",
     "output_type": "stream",
     "text": [
      "   Unnamed: 0          SP         WT\n",
      "0           1  104.185353  28.762059\n",
      "1           2  105.461264  30.466833\n",
      "2           3  105.461264  30.193597\n",
      "3           4  113.461264  30.632114\n",
      "4           5  104.461264  29.889149\n"
     ]
    }
   ],
   "source": [
    "Q9B_data = pd.read_csv(\"Q9_b.csv\")\n",
    "Q9B = pd.DataFrame(Q9B_data)\n",
    "print(Q9B.head())"
   ]
  },
  {
   "cell_type": "code",
   "execution_count": 40,
   "metadata": {},
   "outputs": [
    {
     "name": "stdout",
     "output_type": "stream",
     "text": [
      "\n",
      "------------Kurtosis for Normal Distribution--------\n",
      " Unnamed: 0   -1.200000\n",
      "SP            2.977329\n",
      "WT            0.950291\n",
      "dtype: float64\n",
      "[-1.20036585  2.72352149  0.81946588]\n"
     ]
    },
    {
     "data": {
      "text/plain": [
       "<matplotlib.legend.Legend at 0x1b10861ae48>"
      ]
     },
     "execution_count": 40,
     "metadata": {},
     "output_type": "execute_result"
    },
    {
     "data": {
      "image/png": "[encoded data removed]",
      "text/plain": [
       "<Figure size 432x288 with 1 Axes>"
      ]
     },
     "metadata": {
      "needs_background": "light"
     },
     "output_type": "display_data"
    }
   ],
   "source": [
    "print ('\\n------------Kurtosis for Normal Distribution--------\\n', Q9B_data.kurt())\n",
    "print(kurtosis(Q9B_data))\n",
    "#plt.plot(Q9B_data)\n",
    "#plt.show()\n",
    "\n",
    "sns.distplot(kurtosis(Q9B_data), label = 'Kurtosis')\n",
    "plt.xlabel('SP')\n",
    "plt.ylabel('WT')\n",
    "plt.legend()"
   ]
  },
  {
   "cell_type": "code",
   "execution_count": 41,
   "metadata": {},
   "outputs": [
    {
     "name": "stdout",
     "output_type": "stream",
     "text": [
      "\n",
      "------------Skewness for Normal Distribution--------\n",
      " Unnamed: 0    0.000000\n",
      "SP            1.611450\n",
      "WT           -0.614753\n",
      "dtype: float64\n",
      "[ 0.          1.58145368 -0.60330993]\n"
     ]
    },
    {
     "data": {
      "text/plain": [
       "<matplotlib.legend.Legend at 0x1b108785548>"
      ]
     },
     "execution_count": 41,
     "metadata": {},
     "output_type": "execute_result"
    },
    {
     "data": {
      "image/png": "[encoded data removed]",
      "text/plain": [
       "<Figure size 432x288 with 1 Axes>"
      ]
     },
     "metadata": {
      "needs_background": "light"
     },
     "output_type": "display_data"
    }
   ],
   "source": [
    "print ('\\n------------Skewness for Normal Distribution--------\\n', Q9B_data.skew())\n",
    "print(skew(Q9B_data))\n",
    "#plt.plot(Q9B_data)\n",
    "#plt.show()\n",
    "\n",
    "sns.distplot(skew(Q9B_data), label = 'Skewness')\n",
    "plt.xlabel('SP')\n",
    "plt.ylabel('WT')\n",
    "plt.legend()"
   ]
  },
  {
   "cell_type": "code",
   "execution_count": 42,
   "metadata": {},
   "outputs": [],
   "source": [
    "# Q24. A Government company claims that an average light bulb lasts 270 days. A researcher randomly selects 18 bulbs for testing. The sampled bulbs last an average \n",
    "# of 260 days, with a standard deviation of 90 days. If the CEO's claim were true, what is the probability that 18 randomly selected bulbs would have an average life of \n",
    "# no more than 260 days¶\n",
    "# Hint:\n",
    "# rcode  pt(tscore,df)\n",
    "# df  degrees of freedom"
   ]
  },
  {
   "cell_type": "code",
   "execution_count": 54,
   "metadata": {},
   "outputs": [],
   "source": [
    "from scipy import stats\n",
    "from scipy.stats import norm"
   ]
  },
  {
   "cell_type": "code",
   "execution_count": 44,
   "metadata": {},
   "outputs": [
    {
     "name": "stdout",
     "output_type": "stream",
     "text": [
      "\n",
      "-------------Standard Error-------\n",
      " 21.213203435596427\n",
      "\n",
      "-------------T_Score-------\n",
      " -0.4714045207910317\n"
     ]
    }
   ],
   "source": [
    "# population Mean of Light bulb last = 270 days\n",
    "# Sample = 18 bulds\n",
    "# Sample Mean = 260 days\n",
    "# Sample Standard Deviation = 90 days\n",
    "# Probability for sample = ?\n",
    "population_mean = 270\n",
    "sample_size = 18\n",
    "sample_mean = 260\n",
    "sample_std = 90\n",
    "standard_error = sample_std/np.sqrt(sample_size)\n",
    "t_score = (sample_mean -population_mean)/standard_error\n",
    "print('\\n-------------Standard Error-------\\n',standard_error)\n",
    "print('\\n-------------T_Score-------\\n',t_score)"
   ]
  },
  {
   "cell_type": "code",
   "execution_count": 47,
   "metadata": {},
   "outputs": [
    {
     "name": "stdout",
     "output_type": "stream",
     "text": [
      "\n",
      "--------Critical Value-------\n",
      " 18.644853626951473\n"
     ]
    }
   ],
   "source": [
    "# Calculate Degree of Freedom\n",
    "df = sample_size - 1\n",
    "alpha = 0.05\n",
    "critical_value = norm.ppf(1.0 - alpha,df)\n",
    "print('\\n--------Critical Value-------\\n',critical_value)"
   ]
  },
  {
   "cell_type": "code",
   "execution_count": 49,
   "metadata": {},
   "outputs": [
    {
     "name": "stdout",
     "output_type": "stream",
     "text": [
      "\n",
      "---Probability Value---\n",
      " 2.0\n"
     ]
    }
   ],
   "source": [
    "probability = (1-norm.cdf(abs(t_score),df))*2.0\n",
    "print('\\n---Probability Value---\\n',probability)"
   ]
  },
  {
   "cell_type": "code",
   "execution_count": 50,
   "metadata": {},
   "outputs": [
    {
     "name": "stdout",
     "output_type": "stream",
     "text": [
      "Accept null hypothesis that the means are equal.\n"
     ]
    }
   ],
   "source": [
    "# interpret via critical value\n",
    "if abs(t_score) <= critical_value:\n",
    "\tprint('Accept null hypothesis that the means are equal.')\n",
    "else:\n",
    "\tprint('Reject the null hypothesis that the means are equal.')\n"
   ]
  },
  {
   "cell_type": "code",
   "execution_count": 51,
   "metadata": {},
   "outputs": [
    {
     "name": "stdout",
     "output_type": "stream",
     "text": [
      "Accept null hypothesis that the means are equal.\n"
     ]
    }
   ],
   "source": [
    "# interpret via p-value\n",
    "if probability > alpha:\n",
    "\tprint('Accept null hypothesis that the means are equal.')\n",
    "else:\n",
    "\tprint('Reject the null hypothesis that the means are equal.')"
   ]
  },
  {
   "cell_type": "code",
   "execution_count": 52,
   "metadata": {},
   "outputs": [
    {
     "name": "stdout",
     "output_type": "stream",
     "text": [
      "-1.6448536269514729\n",
      "[ 0.4987158   0.10634989  1.01569987  1.80791499  1.31831143 -0.23567451\n",
      " -0.77664294  0.21154786 -0.39104235 -1.20057485  0.93789716 -0.58708338\n",
      " -0.77927707  0.21718972 -0.11686115  0.22616237  1.18196766 -0.4042031\n",
      " -1.34751605  0.7648939  -0.26170628 -0.03784641 -0.42492994 -0.7642443\n",
      "  1.71752319 -0.76493002  0.40190659 -1.13759217  0.41699196  0.07516269\n",
      " -1.05331325 -1.51970837 -0.84278906 -1.1157163  -3.01958589 -0.08862643\n",
      " -0.3940253   0.8598945   0.64106972  0.9025737   1.02474515  0.4407525\n",
      "  0.34950943 -0.29865145 -1.16236396  0.19292007 -0.39591133 -2.51663743\n",
      "  0.22782831 -0.48442187  1.5243723  -0.65568577  0.87088285  0.46925953\n",
      "  0.50897141  0.33076415 -0.29029096 -0.44989813  1.11401665  0.89941004\n",
      "  0.186128   -0.39385942  0.64573478 -0.51957759  0.09508957  0.11088603\n",
      " -0.43569635 -0.53100344 -0.25329711 -1.2689168  -1.28611222  0.65112941\n",
      " -0.35198444  0.0890557  -0.54012195  0.51164843 -0.42691738 -0.73266237\n",
      "  1.09939368 -2.28823136  0.75760382  0.35844005  0.64169061  1.28664412\n",
      " -0.33299724  0.36112682 -0.06358716 -0.46823297  0.76155476  0.71634914]\n"
     ]
    }
   ],
   "source": [
    "print(norm.ppf(0.05))\n",
    "print(norm.rvs(size=90))"
   ]
  },
  {
   "cell_type": "code",
   "execution_count": 53,
   "metadata": {},
   "outputs": [],
   "source": [
    "# Q23) Calculate the t scores of 95% confidence interval, 96% confidence interval, 99% confidence interval for sample size of 25"
   ]
  },
  {
   "cell_type": "code",
   "execution_count": 55,
   "metadata": {},
   "outputs": [
    {
     "data": {
      "text/plain": [
       "2.0638985616280205"
      ]
     },
     "execution_count": 55,
     "metadata": {},
     "output_type": "execute_result"
    }
   ],
   "source": [
    "# t scores of 95% confidence interval for sample size of 25\n",
    "stats.t.ppf(0.975,24)  # df = n-1 = 24"
   ]
  },
  {
   "cell_type": "code",
   "execution_count": 56,
   "metadata": {},
   "outputs": [
    {
     "data": {
      "text/plain": [
       "2.1715446760080677"
      ]
     },
     "execution_count": 56,
     "metadata": {},
     "output_type": "execute_result"
    }
   ],
   "source": [
    "# t scores of 96% confidence interval for sample size of 25\n",
    "stats.t.ppf(0.98,24)"
   ]
  },
  {
   "cell_type": "code",
   "execution_count": 57,
   "metadata": {},
   "outputs": [
    {
     "data": {
      "text/plain": [
       "2.796939504772804"
      ]
     },
     "execution_count": 57,
     "metadata": {},
     "output_type": "execute_result"
    }
   ],
   "source": [
    "# t scores of 99% confidence interval for sample size of 25\n",
    "stats.t.ppf(0.995,24)"
   ]
  },
  {
   "cell_type": "code",
   "execution_count": 58,
   "metadata": {},
   "outputs": [],
   "source": [
    "# Q22) Calculate the Z scores of 90% confidence interval,94% confidence interval, 60% confidence interval"
   ]
  },
  {
   "cell_type": "code",
   "execution_count": 59,
   "metadata": {},
   "outputs": [
    {
     "data": {
      "text/plain": [
       "1.6448536269514722"
      ]
     },
     "execution_count": 59,
     "metadata": {},
     "output_type": "execute_result"
    }
   ],
   "source": [
    "# Z-score of 90% confidence interval \n",
    "stats.norm.ppf(0.95)"
   ]
  },
  {
   "cell_type": "code",
   "execution_count": 60,
   "metadata": {},
   "outputs": [
    {
     "data": {
      "text/plain": [
       "1.8807936081512509"
      ]
     },
     "execution_count": 60,
     "metadata": {},
     "output_type": "execute_result"
    }
   ],
   "source": [
    "# Z-score of 94% confidence interval\n",
    "stats.norm.ppf(0.97)"
   ]
  },
  {
   "cell_type": "code",
   "execution_count": 61,
   "metadata": {},
   "outputs": [
    {
     "data": {
      "text/plain": [
       "0.8416212335729143"
      ]
     },
     "execution_count": 61,
     "metadata": {},
     "output_type": "execute_result"
    }
   ],
   "source": [
    "# Z-score of 60% confidence interval\n",
    "stats.norm.ppf(0.8)"
   ]
  },
  {
   "cell_type": "code",
   "execution_count": null,
   "metadata": {},
   "outputs": [],
   "source": []
  }
 ],
 "metadata": {
  "kernelspec": {
   "display_name": "Python 3",
   "language": "python",
   "name": "python3"
  },
  "language_info": {
   "codemirror_mode": {
    "name": "ipython",
    "version": 3
   },
   "file_extension": ".py",
   "mimetype": "text/x-python",
   "name": "python",
   "nbconvert_exporter": "python",
   "pygments_lexer": "ipython3",
   "version": "3.7.6"
  }
 },
 "nbformat": 4,
 "nbformat_minor": 4
}
